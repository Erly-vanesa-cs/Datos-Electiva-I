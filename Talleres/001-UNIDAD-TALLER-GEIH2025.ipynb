{
 "cells": [
  {
   "cell_type": "code",
   "execution_count": 325,
   "id": "6ff2aa02",
   "metadata": {},
   "outputs": [],
   "source": [
    "import pandas as pd\n",
    "import numpy as np\n",
    "import matplotlib.pyplot as plt\n",
    "from pathlib import Path"
   ]
  },
  {
   "cell_type": "code",
   "execution_count": 326,
   "id": "90e9e4a6",
   "metadata": {},
   "outputs": [
    {
     "name": "stderr",
     "output_type": "stream",
     "text": [
      "/tmp/ipykernel_1890/3175422324.py:6: DtypeWarning: Columns (28,89,133,147,158) have mixed types. Specify dtype option on import or set low_memory=False.\n",
      "  df_o = pd.read_csv('https://github.com/niconomist98/DataAnalyticsUQ/raw/refs/heads/main/Datos/GEIH2025/Ocupados.CSV'\n",
      "/tmp/ipykernel_1890/3175422324.py:13: DtypeWarning: Columns (33) have mixed types. Specify dtype option on import or set low_memory=False.\n",
      "  df_ft = pd.read_csv('https://github.com/niconomist98/DataAnalyticsUQ/raw/refs/heads/main/Datos/GEIH2025/Fuerza%20de%20trabajo.CSV'\n"
     ]
    }
   ],
   "source": [
    "#Leyendo los datos de la geih\n",
    "df_cgsse = pd.read_csv('https://github.com/niconomist98/DataAnalyticsUQ/raw/refs/heads/main/Datos/GEIH2025/cgsse.CSV'\n",
    "                       ,encoding='latin',sep=';'\n",
    "                       )\n",
    "\n",
    "df_o = pd.read_csv('https://github.com/niconomist98/DataAnalyticsUQ/raw/refs/heads/main/Datos/GEIH2025/Ocupados.CSV'\n",
    "                       ,encoding='latin',sep=';'\n",
    "                       )\n",
    "\n",
    "df_d = pd.read_csv('https://github.com/niconomist98/DataAnalyticsUQ/raw/refs/heads/main/Datos/GEIH2025/No%20ocupados.CSV'\n",
    "                       ,encoding='latin',sep=';'\n",
    "                       )\n",
    "df_ft = pd.read_csv('https://github.com/niconomist98/DataAnalyticsUQ/raw/refs/heads/main/Datos/GEIH2025/Fuerza%20de%20trabajo.CSV'\n",
    "                       ,encoding='latin',sep=';'\n",
    "                       )"
   ]
  },
  {
   "cell_type": "code",
   "execution_count": 327,
   "id": "660c4bd5",
   "metadata": {},
   "outputs": [],
   "source": [
    "#Taller mercado laboral GEIH 2025"
   ]
  },
  {
   "cell_type": "code",
   "execution_count": 328,
   "id": "767c3580",
   "metadata": {},
   "outputs": [
    {
     "name": "stdout",
     "output_type": "stream",
     "text": [
      "Poblacion total representada: 52045001\n",
      "Poblacion en edad de trabajar: 40653416\n",
      "Poblacion que no está en  edad de trabajar: 11391585\n",
      "Poblacion Economicamente Activa: 25974846\n",
      "Poblacion Economicamente inactiva: 14678569\n",
      "Poblacion ocupada: 23752952\n",
      "Tasa de Ocupacion: 58.43%\n",
      "Poblacion Desempleada: 2221893\n",
      "Tasa de Desempleo: 8.55%\n"
     ]
    }
   ],
   "source": [
    "# 1. Para el total nacional, calcule.\n",
    "\n",
    "#POBLACION TOTAL.\n",
    "df_cgsse['FEX_C18'].sum()\n",
    "print(f'Poblacion total representada: {int(df_cgsse[\"FEX_C18\"].sum())}')\n",
    "\n",
    "#POBLACION EN EDAD DE TRABAJAR.\n",
    "PET = df_cgsse[df_cgsse['P6040']>=15]['FEX_C18'].sum()\n",
    "print(f'Poblacion en edad de trabajar: {int(PET)}')\n",
    "\n",
    "#POBLACION QUE NO ESTA EN EDAD DE TRABAJAR.\n",
    "PNET = df_cgsse[df_cgsse['P6040']<15]['FEX_C18'].sum()\n",
    "print(f'Poblacion que no está en  edad de trabajar: {int(PNET)}')\n",
    "\n",
    "#POBLACION ECONOMICAMENTE ACTIVA.\n",
    "PEA = df_ft[df_ft['FT']==1.0]['FEX_C18'].sum()\n",
    "print(f'Poblacion Economicamente Activa: {int(PEA)}')\n",
    "\n",
    "#POBLACION ECONOMICAMENTE INACTIVA.\n",
    "PEI = df_ft[df_ft['FFT']==1]['FEX_C18'].sum()\n",
    "print(f'Poblacion Economicamente inactiva: {int(PEI)}')\n",
    "\n",
    "#TASA DE OCUPACION.\n",
    "\n",
    "#Poblacion Ocupada.\n",
    "O = df_o['FEX_C18'].sum()\n",
    "print(f'Poblacion ocupada: {int(O)}')\n",
    "\n",
    "#Tasa de Ocupacion.\n",
    "TO = O/PET\n",
    "print(f'Tasa de Ocupacion: {TO:.2%}')\n",
    "\n",
    "#TASA DE DESEMPLEO.\n",
    "\n",
    "#POBLACION DESEMPLEADA.\n",
    "D=df_d[df_d['DSI']==1]['FEX_C18'].sum()\n",
    "print(f'Poblacion Desempleada: {int(D)}')\n",
    "\n",
    "TD = D/PEA\n",
    "print(f'Tasa de Desempleo: {TD*100:.2f}%')\n"
   ]
  },
  {
   "cell_type": "code",
   "execution_count": 329,
   "id": "a3defcff",
   "metadata": {},
   "outputs": [],
   "source": [
    "#2. Tasas de desempleo para hombres y mujeres en los departamentos de Quindio, Caldas y Risaralda en colombia, \n",
    "# cuales son los departamentos con mayores y menores tasas de desempleo ? \n",
    "\n",
    "#Primero hay que anexar la p3271 a la tabla de desocupados y fuerza de trabajo\n",
    "df_d = pd.merge(df_d, df_cgsse[['DIRECTORIO', 'SECUENCIA_P', 'ORDEN', 'P3271','P6040']], \n",
    "                        on=['DIRECTORIO', 'SECUENCIA_P', 'ORDEN'], how='left')\n",
    "\n",
    "df_ft = pd.merge(df_ft, df_cgsse[['DIRECTORIO', 'SECUENCIA_P', 'ORDEN', 'P3271','P6040']], \n",
    "                        on=['DIRECTORIO', 'SECUENCIA_P', 'ORDEN'], how='left')"
   ]
  },
  {
   "cell_type": "code",
   "execution_count": 330,
   "id": "56131b17",
   "metadata": {},
   "outputs": [
    {
     "name": "stdout",
     "output_type": "stream",
     "text": [
      "Hombres Desempleados en el Quindio: 17869.520960767004\n",
      "Poblacion Economicamente Activa de hombres en el quindío: 174625.87195169798\n",
      "Tasa de Desempleo en hombres del quindío: 10.233031773040919%\n",
      "Mujeres Desempleadas en el Quindio: 10618.534945967001\n",
      "Poblacion Economicamente Activa de mujeres en el quindío: 116885.879263648\n",
      "Tasa de Desempleo en mujeres del quindío: 9.084531863781265%\n"
     ]
    }
   ],
   "source": [
    "#2.1. Quindio.\n",
    "\n",
    "#Tasa de desempleo para hombre en el Quindio.\n",
    "# 1. Calcular cantidad de hombres desempleados en el quindío \n",
    "HDQ = df_d[(df_d['DSI']==1) & (df_d['DPTO']==63) & (df_d['P3271']==1)]['FEX_C18'].sum()\n",
    "print(f'Hombres Desempleados en el Quindio: {HDQ}')\n",
    "\n",
    "# 2. Calcular cantidad de hombres en la PEA del quindío\n",
    "PEAHQ = df_ft[(df_ft['FT']==1) & (df_ft['DPTO']==63) & (df_ft['P3271']==1) ]['FEX_C18'].sum()\n",
    "print(f'Poblacion Economicamente Activa de hombres en el quindío: {PEAHQ}')\n",
    "\n",
    "# 3. Calcular la tasa de desempleo en hombres del quindío\n",
    "TDHQ = HDQ/PEAHQ\n",
    "print(f'Tasa de Desempleo en hombres del quindío: {TDHQ*100}%')\n",
    "\n",
    "\n",
    "#Tasa de desempleo para mujeres en el Quindio.\n",
    "# 1. Calcular cantidad de mujeres desempleadas en el quindío.\n",
    "MDQ = df_d[(df_d['DSI']==1) & (df_d['DPTO']==63) & (df_d['P3271']==2)]['FEX_C18'].sum()\n",
    "print(f'Mujeres Desempleadas en el Quindio: {MDQ}')\n",
    "\n",
    "# 2. Calcular cantidad de mujeres en la PEA del quindío\n",
    "PEAMQ = df_ft[(df_ft['FT']==1) & (df_ft['DPTO']==63) & (df_ft['P3271']==2) ]['FEX_C18'].sum()\n",
    "print(f'Poblacion Economicamente Activa de mujeres en el quindío: {PEAMQ}')\n",
    "\n",
    "# 3. Calcular la tasa de desempleo en mujeres del quindío\n",
    "TDMQ = MDQ/PEAMQ\n",
    "print(f'Tasa de Desempleo en mujeres del quindío: {TDMQ*100}%')\n"
   ]
  },
  {
   "cell_type": "code",
   "execution_count": 331,
   "id": "5800a2cf",
   "metadata": {},
   "outputs": [
    {
     "name": "stdout",
     "output_type": "stream",
     "text": [
      "Hombres Desempleados en Risaralda: 18000.60370715\n",
      "Poblacion Economicamente Activa de hombres en Risaralda: 296342.328368219\n",
      "Tasa de Desempleo en hombres de Risaralda: 6.074260064793518%\n",
      "Mujeres Desempleadas en el Risaralda: 21676.799766712\n",
      "Poblacion Economicamente Activa de mujeres en Risaralda: 203157.903399127\n",
      "Tasa de Desempleo en mujeres de Risaralda: 10.669926891362644%\n"
     ]
    }
   ],
   "source": [
    "#2.2. Risaralda.\n",
    "\n",
    "#Tasa de desempleo para hombre en Risaralda. \n",
    "# 1. Calcular cantidad de hombres desempleados en Risaralda\n",
    "HDR = df_d[(df_d['DSI']==1) & (df_d['DPTO']==66) & (df_d['P3271']==1)]['FEX_C18'].sum()\n",
    "print(f'Hombres Desempleados en Risaralda: {HDR}')\n",
    "\n",
    "# 2. Calcular cantidad de hombres en la PEA de Risaralda.\n",
    "PEAHR = df_ft[(df_ft['FT']==1) & (df_ft['DPTO']==66) & (df_ft['P3271']==1) ]['FEX_C18'].sum()\n",
    "print(f'Poblacion Economicamente Activa de hombres en Risaralda: {PEAHR}')\n",
    "\n",
    "# 3. Calcular la tasa de desempleo en hombres de Risaralda\n",
    "TDHR = HDR/PEAHR\n",
    "print(f'Tasa de Desempleo en hombres de Risaralda: {TDHR*100}%')\n",
    "\n",
    "\n",
    "#Tasa de desempleo para mujeres en Risaralda.\n",
    "# 1. Calcular cantidad de mujeres desempleadas en Risaralda \n",
    "MDR = df_d[(df_d['DSI']==1) & (df_d['DPTO']==66) & (df_d['P3271']==2)]['FEX_C18'].sum()\n",
    "print(f'Mujeres Desempleadas en el Risaralda: {MDR}')\n",
    "\n",
    "# 2. Calcular cantidad de mujeres en la PEA Risaralda\n",
    "PEAMR = df_ft[(df_ft['FT']==1) & (df_ft['DPTO']==66) & (df_ft['P3271']==2) ]['FEX_C18'].sum()\n",
    "print(f'Poblacion Economicamente Activa de mujeres en Risaralda: {PEAMR}')\n",
    "\n",
    "# 3. Calcular la tasa de desempleo en mujeres de Risaralda\n",
    "TDMR = MDR/PEAMR\n",
    "print(f'Tasa de Desempleo en mujeres de Risaralda: {TDMR*100}%')\n",
    "\n"
   ]
  },
  {
   "cell_type": "code",
   "execution_count": 332,
   "id": "23774b3c",
   "metadata": {},
   "outputs": [
    {
     "name": "stdout",
     "output_type": "stream",
     "text": [
      "Hombres Desempleados en Caldas: 18226.160047418998\n",
      "Poblacion Economicamente Activa de hombres en Caldas: 326447.467769983\n",
      "Tasa de Desempleo en hombres de Caldas: 5.5831831601957065%\n",
      "Mujeres Desempleadas en Caldas: 17214.491449226003\n",
      "Poblacion Economicamente Activa de mujeres en Caldas: 224206.533775\n",
      "Tasa de Desempleo en mujeres de Caldas: 7.677961547053494%\n"
     ]
    }
   ],
   "source": [
    "#2.3. Caldas.\n",
    "\n",
    "#Tasa de desempleo para hombre en Caldas.\n",
    "# 1. Calcular cantidad de hombres desempleados en Caldas\n",
    "HDC= df_d[(df_d['DSI']==1) & (df_d['DPTO']==17) & (df_d['P3271']==1)]['FEX_C18'].sum()\n",
    "print(f'Hombres Desempleados en Caldas: {HDC}')\n",
    "# 2. Calcular cantidad de hombres en la PEA de Caldas\n",
    "PEAHC = df_ft[(df_ft['FT']==1) & (df_ft['DPTO']==17) & (df_ft['P3271']==1) ]['FEX_C18'].sum()\n",
    "print(f'Poblacion Economicamente Activa de hombres en Caldas: {PEAHC}')\n",
    "# 3. Calcular la tasa de desempleo en hombres de Caldas\n",
    "TDHC = HDC/PEAHC\n",
    "print(f'Tasa de Desempleo en hombres de Caldas: {TDHC*100}%')\n",
    "\n",
    "#Tasa de desempleo para mujeres en Caldas.\n",
    "# 1. Calcular cantidad de mujeres desempleadas en Caldas\n",
    "MDC = df_d[(df_d['DSI']==1) & (df_d['DPTO']==17) & (df_d['P3271']==2)]['FEX_C18'].sum()\n",
    "print(f'Mujeres Desempleadas en Caldas: {MDC}')\n",
    "# 2. Calcular cantidad de mujeres en la PEA de Caldas\n",
    "PEAMC = df_ft[(df_ft['FT']==1) & (df_ft['DPTO']==17) & (df_ft['P3271']==2) ]['FEX_C18'].sum()\n",
    "print(f'Poblacion Economicamente Activa de mujeres en Caldas: {PEAMC}')\n",
    "# 3. Calcular la tasa de desempleo en mujeres de Caldas\n",
    "TDMC = MDC/PEAMC\n",
    "print(f'Tasa de Desempleo en mujeres de Caldas: {TDMC*100}%')\n"
   ]
  },
  {
   "cell_type": "code",
   "execution_count": 333,
   "id": "05c3652a",
   "metadata": {},
   "outputs": [],
   "source": [
    "#3. Tomando en consideración únicamente los siguientes grupos de edad: \n",
    "#18 a 24\n",
    "#24 a 30\n",
    "#30 a 40\n",
    "#40 a 50 \n",
    "#60 en adelante \n",
    "#Para cada uno de los 3 departamentos, cual es el grupo de edad con mayor y menor tasa de desempleo ? \n",
    "\n",
    "#Primero hay que anexar la P6040 a la tabla de desocupados y fuerza de trabajo\n",
    "df_d = pd.merge(df_d, df_cgsse[['DIRECTORIO', 'SECUENCIA_P', 'ORDEN', 'P6040']], \n",
    "                        on=['DIRECTORIO', 'SECUENCIA_P', 'ORDEN'], how='left')\n",
    "\n",
    "df_ft = pd.merge(df_ft, df_cgsse[['DIRECTORIO', 'SECUENCIA_P', 'ORDEN', 'P6040']], \n",
    "                        on=['DIRECTORIO', 'SECUENCIA_P', 'ORDEN'], how='left')"
   ]
  },
  {
   "cell_type": "code",
   "execution_count": 334,
   "id": "f5bdefd2",
   "metadata": {},
   "outputs": [
    {
     "name": "stdout",
     "output_type": "stream",
     "text": [
      "Tasa de desempleo en el Quindio para el grupo de edad 18 a 24 años: 12.77%\n",
      "Tasa de desempleo en el Quindio para el grupo de edad 24 a 30 años: 13.08%\n",
      "Tasa de desempleo en el Quindio para el grupo de edad 30 a 40 años: 9.59%\n",
      "Tasa de desempleo en el Quindio para el grupo de edad 40 a 50 años: 6.03%\n",
      "Tasa de desempleo en el Quindio para el grupo de edad 60 en adelante: 11.33%\n"
     ]
    }
   ],
   "source": [
    "#3.1. Quindio. \n",
    "\n",
    "#Tasa de desempleo para el grupo de edad 18 a 24 años en el Quindio.\n",
    "DQ_18_24 = df_d[(df_d['DSI']==1) & (df_d['DPTO']==63) & (df_d['P6040_x']>=18) & (df_d['P6040_x']<=24) ]['FEX_C18'].sum()\n",
    "PEAQ_18_24 = df_ft[(df_ft['FT']==1) & (df_ft['DPTO']==63) & (df_ft['P6040_x']>=18) & (df_ft['P6040_x']<=24) ]['FEX_C18'].sum()\n",
    "TDQ_18_24 = DQ_18_24/PEAQ_18_24\n",
    "print(f'Tasa de desempleo en el Quindio para el grupo de edad 18 a 24 años: {TDQ_18_24*100:.2f}%')\n",
    "\n",
    "#Tasa de desempleo para el grupo de edad 24 a 30 años en el Quindio.\n",
    "DQ_24_30 = df_d[(df_d['DSI']==1) & (df_d['DPTO']==63) & (df_d['P6040_x']>24) & (df_d['P6040_x']<=30) ]['FEX_C18'].sum()\n",
    "PEAQ_24_30 = df_ft[(df_ft['FT']==1) & (df_ft['DPTO']==63) & (df_ft['P6040_x']>24) & (df_ft['P6040_x']<=30) ]['FEX_C18'].sum()\n",
    "TDQ_24_30 = DQ_24_30/PEAQ_24_30\n",
    "print(f'Tasa de desempleo en el Quindio para el grupo de edad 24 a 30 años: {TDQ_24_30*100:.2f}%')\n",
    "\n",
    "#Tasa de desempleo para el grupo de edad 30 a 40 años en el Quindio.\n",
    "DQ_30_40 = df_d[(df_d['DSI']==1) & (df_d['DPTO']==63) & (df_d['P6040_x']>30) & (df_d['P6040_x']<=40) ]['FEX_C18'].sum()\n",
    "PEAQ_30_40 = df_ft[(df_ft['FT']==1) & (df_ft['DPTO']==63) & (df_ft['P6040_x']>30) & (df_ft['P6040_x']<=40) ]['FEX_C18'].sum()\n",
    "TDQ_30_40 = DQ_30_40/PEAQ_30_40\n",
    "print(f'Tasa de desempleo en el Quindio para el grupo de edad 30 a 40 años: {TDQ_30_40*100:.2f}%')\n",
    "\n",
    "#Tasa de desempleo para el grupo de edad 40 a 50 años en el Quindio.\n",
    "DQ_40_50 = df_d[(df_d['DSI']==1) & (df_d['DPTO']==63) & (df_d['P6040_x']>40) & (df_d['P6040_x']<=50) ]['FEX_C18'].sum()\n",
    "PEAQ_40_50 = df_ft[(df_ft['FT']==1) & (df_ft['DPTO']==63) & (df_ft['P6040_x']>40) & (df_ft['P6040_x']<=50) ]['FEX_C18'].sum()\n",
    "TDQ_40_50 = DQ_40_50/PEAQ_40_50\n",
    "print(f'Tasa de desempleo en el Quindio para el grupo de edad 40 a 50 años: {TDQ_40_50*100:.2f}%')\n",
    "\n",
    "#Tasa de desempleo para el grupo de edad 60 en adelante en el Quindio.\n",
    "DQ_60_en_adelante = df_d[(df_d['DSI']==1) & (df_d['DPTO']==63) & (df_d['P6040_x']>60) ]['FEX_C18'].sum()\n",
    "PEAQ_60_en_adelante = df_ft[(df_ft['FT']==1) & (df_ft['DPTO']==63) & (df_ft['P6040_x']> 60) ]['FEX_C18'].sum()\n",
    "TDQ_60_en_adelante = DQ_60_en_adelante/PEAQ_60_en_adelante\n",
    "print(f'Tasa de desempleo en el Quindio para el grupo de edad 60 en adelante: {TDQ_60_en_adelante*100:.2f}%')"
   ]
  },
  {
   "cell_type": "code",
   "execution_count": 335,
   "id": "00026068",
   "metadata": {},
   "outputs": [
    {
     "name": "stdout",
     "output_type": "stream",
     "text": [
      "Tasa de desempleo en Risaralda para el grupo de edad 18 a 24 años: 14.79%\n",
      "Tasa de desempleo en Risaralda para el grupo de edad 24 a 30 años: 11.31%\n",
      "Tasa de desempleo en Risaralda para el grupo de edad 30 a 40 años: 6.53%\n",
      "Tasa de desempleo en Risaralda para el grupo de edad 40 a 50 años: 6.50%\n",
      "Tasa de desempleo en Risaralda para el grupo de edad 60 en adelante: 4.04%\n"
     ]
    }
   ],
   "source": [
    "#3.2. Risaralda.\n",
    "\n",
    "#Tasa de desempleo en Risaralda para el grupo de edad 18 a 24 años\n",
    "DR_18_24 = df_d[(df_d['DSI']==1) & (df_d['DPTO']==66) & (df_d['P6040_x']>=18) & (df_d['P6040_x']<=24) ]['FEX_C18'].sum()\n",
    "PEAR_18_24 = df_ft[(df_ft['FT']==1) & (df_ft['DPTO']==66) & (df_ft['P6040_x']>=18) & (df_ft['P6040_x']<=24) ]['FEX_C18'].sum()\n",
    "TD_R_18_24 = DR_18_24/PEAR_18_24\n",
    "print(f'Tasa de desempleo en Risaralda para el grupo de edad 18 a 24 años: {TD_R_18_24*100:.2f}%')\n",
    "\n",
    "#Tasa de desempleo en Risaralda para el grupo de edad 24 a 30 años\n",
    "DR_24_30 = df_d[(df_d['DSI']==1) & (df_d['DPTO']==66) & (df_d['P6040_x']>24) & (df_d['P6040_x']<=30) ]['FEX_C18'].sum()\n",
    "PEAR_24_30 = df_ft[(df_ft['FT']==1) & (df_ft['DPTO']==66) & (df_ft['P6040_x']>24) & (df_ft['P6040_x']<=30) ]['FEX_C18'].sum()\n",
    "TD_R_24_30 = DR_24_30/PEAR_24_30\n",
    "print(f'Tasa de desempleo en Risaralda para el grupo de edad 24 a 30 años: {TD_R_24_30*100:.2f}%')\n",
    "\n",
    "#Tasa de desempleo en Risaralda para el grupo de edad 30 a 40 años\n",
    "DR_30_40 = df_d[(df_d['DSI']==1) & (df_d['DPTO']==66) & (df_d['P6040_x']>30) & (df_d['P6040_x']<=40) ]['FEX_C18'].sum()\n",
    "PEAR_30_40 = df_ft[(df_ft['FT']==1) & (df_ft['DPTO']==66) & (df_ft['P6040_x']>30) & (df_ft['P6040_x']<=40) ]['FEX_C18'].sum()\n",
    "TD_R_30_40 = DR_30_40/PEAR_30_40\n",
    "print(f'Tasa de desempleo en Risaralda para el grupo de edad 30 a 40 años: {TD_R_30_40*100:.2f}%')\n",
    "\n",
    "#Tasa de desempleo en Risaralda para el grupo de edad 40 a 50 años\n",
    "DR_40_50 = df_d[(df_d['DSI']==1) & (df_d['DPTO']==66) & (df_d['P6040_x']>40) & (df_d['P6040_x']<=50) ]['FEX_C18'].sum()\n",
    "PEAR_40_50 = df_ft[(df_ft['FT']==1) & (df_ft['DPTO']==66) & (df_ft['P6040_x']>40) & (df_ft['P6040_x']<=50) ]['FEX_C18'].sum()\n",
    "TD_R_40_50 = DR_40_50/PEAR_40_50\n",
    "print(f'Tasa de desempleo en Risaralda para el grupo de edad 40 a 50 años: {TD_R_40_50*100:.2f}%')\n",
    "\n",
    "#Tasa de desempleo en Risaralda para el grupo de edad 60 en adelante\n",
    "DR_60_en_adelante = df_d[(df_d['DSI']==1) & (df_d['DPTO']==66) & (df_d['P6040_x']>60) ]['FEX_C18'].sum()\n",
    "PEAR_60_en_adelante = df_ft[(df_ft['FT']==1) & (df_ft['DPTO']==66) & (df_ft['P6040_x']> 60) ]['FEX_C18'].sum()\n",
    "TD_R_60_en_adelante = DR_60_en_adelante/PEAR_60_en_adelante\n",
    "print(f'Tasa de desempleo en Risaralda para el grupo de edad 60 en adelante: {TD_R_60_en_adelante*100:.2f}%')"
   ]
  },
  {
   "cell_type": "code",
   "execution_count": 336,
   "id": "391bbdc1",
   "metadata": {},
   "outputs": [
    {
     "name": "stdout",
     "output_type": "stream",
     "text": [
      "Tasa de desempleo en Caldas para el grupo de edad 18 a 24 años: 9.34%\n",
      "Tasa de desempleo en Caldas para el grupo de edad 24 a 30 años: 6.45%\n",
      "Tasa de desempleo en Caldas para el grupo de edad 30 a 40 años: 5.46%\n",
      "Tasa de desempleo en Caldas para el grupo de edad 40 a 50 años: 4.09%\n",
      "Tasa de desempleo en Caldas para el grupo de edad 60 en adelante : 4.80%\n"
     ]
    }
   ],
   "source": [
    "#3.3. Caldas.\n",
    "\n",
    "#Tasa de desempleo en Caldas para el grupo de edad 18 a 24 años\n",
    "DC_18_24 = df_d[(df_d['DSI']==1) & (df_d['DPTO']==17) & (df_d['P6040_x']>=18) & (df_d['P6040_x']<=24) ]['FEX_C18'].sum()\n",
    "PEAC_18_24 = df_ft[(df_ft['FT']==1) & (df_ft['DPTO']==17) & (df_ft['P6040_x']>=18) & (df_ft['P6040_x']<=24) ]['FEX_C18'].sum()\n",
    "TD_C_18_24 = DC_18_24/PEAC_18_24\n",
    "print(f'Tasa de desempleo en Caldas para el grupo de edad 18 a 24 años: {TD_C_18_24*100:.2f}%')\n",
    "\n",
    "#Tasa de desempleo en Caldas para el grupo de edad 24 a 30 años\n",
    "DC_24_30 = df_d[(df_d['DSI']==1) & (df_d['DPTO']==17) & (df_d['P6040_x']>24) & (df_d['P6040_x']<=30) ]['FEX_C18'].sum()\n",
    "PEAC_24_30 = df_ft[(df_ft['FT']==1) & (df_ft['DPTO']==17) & (df_ft['P6040_x']>24) & (df_ft['P6040_x']<=30) ]['FEX_C18'].sum()\n",
    "TD_C_24_30 = DC_24_30/PEAC_24_30\n",
    "print(f'Tasa de desempleo en Caldas para el grupo de edad 24 a 30 años: {TD_C_24_30*100:.2f}%')\n",
    "\n",
    "#Tasa de desempleo en Caldas para el grupo de edad 30 a 40 años\n",
    "DC_30_40 = df_d[(df_d['DSI']==1) & (df_d['DPTO']==17) & (df_d['P6040_x']>30) & (df_d['P6040_x']<=40) ]['FEX_C18'].sum()\n",
    "PEAC_30_40 = df_ft[(df_ft['FT']==1) & (df_ft['DPTO']==17) & (df_ft['P6040_x']>30) & (df_ft['P6040_x']<=40) ]['FEX_C18'].sum()\n",
    "TD_C_30_40 = DC_30_40/PEAC_30_40\n",
    "print(f'Tasa de desempleo en Caldas para el grupo de edad 30 a 40 años: {TD_C_30_40*100:.2f}%')\n",
    "\n",
    "#Tasa de desempleo en Caldas para el grupo de edad 40 a 50 años\n",
    "DC_40_50 = df_d[(df_d['DSI']==1) & (df_d['DPTO']==17) & (df_d['P6040_x']>40) & (df_d['P6040_x']<=50) ]['FEX_C18'].sum()\n",
    "PEAC_40_50 = df_ft[(df_ft['FT']==1) & (df_ft['DPTO']==17) & (df_ft['P6040_x']>40) & (df_ft['P6040_x']<=50) ]['FEX_C18'].sum()\n",
    "TD_C_40_50 = DC_40_50/PEAC_40_50\n",
    "print(f'Tasa de desempleo en Caldas para el grupo de edad 40 a 50 años: {TD_C_40_50*100:.2f}%')\n",
    "\n",
    "#Tasa de desempleo en Caldas para el grupo de edad 60 en adelante\n",
    "DC_60_en_adelante = df_d[(df_d['DSI']==1) & (df_d['DPTO']==17) & (df_d['P6040_x']>60) ]['FEX_C18'].sum()\n",
    "PEAC_60_en_adelante = df_ft[(df_ft['FT']==1) & (df_ft['DPTO']==17) & (df_ft['P6040_x']> 60) ]['FEX_C18'].sum()\n",
    "TD_C_60_en_adelante= DC_60_en_adelante/PEAC_60_en_adelante\n",
    "print(f'Tasa de desempleo en Caldas para el grupo de edad 60 en adelante : {TD_C_60_en_adelante*100:.2f}%')\n"
   ]
  },
  {
   "cell_type": "code",
   "execution_count": 337,
   "id": "40d30eb4",
   "metadata": {},
   "outputs": [
    {
     "name": "stdout",
     "output_type": "stream",
     "text": [
      "El grupo de edad con mayor tasa de desempleo en el Quindio es: 24 a 30 con una tasa de 13.08%\n",
      "El grupo de edad con menor tasa de desempleo en el Quindio es: 40 a 50 con una tasa de 6.03%\n",
      "---\n",
      "El grupo de edad con mayor tasa de desempleo en Risaralda es: 18 a 24 con una tasa de 14.79%\n",
      "El grupo de edad con menor tasa de desempleo en Risaralda es: 60 en adelante con una tasa de 4.04%\n",
      "---\n",
      "El grupo de edad con mayor tasa de desempleo en Caldas es: 18 a 24 con una tasa de 9.34%\n",
      "El grupo de edad con menor tasa de desempleo en Caldas es: 40 a 50 con una tasa de 4.09%\n"
     ]
    }
   ],
   "source": [
    "#Para cada uno de los departamentos, cual es el grupo de edad con mayor y menor tasa de desempleo ? \n",
    "\n",
    "#3.1. Quindio.\n",
    "#Grupo de edad con mayor tasa de desempleo en el Quindio\n",
    "tasa_desempleo_quindio = {\n",
    "    '18 a 24': TDQ_18_24,\n",
    "    '24 a 30': TDQ_24_30,\n",
    "    '30 a 40': TDQ_30_40,\n",
    "    '40 a 50': TDQ_40_50,\n",
    "    '60 en adelante': TDQ_60_en_adelante\n",
    "}\n",
    "grupo_mayor_td_quindio = max(tasa_desempleo_quindio, key=tasa_desempleo_quindio.get)\n",
    "print(f'El grupo de edad con mayor tasa de desempleo en el Quindio es: {grupo_mayor_td_quindio} con una tasa de {tasa_desempleo_quindio[grupo_mayor_td_quindio]*100:.2f}%')\n",
    "grupo_menor_td_quindio = min(tasa_desempleo_quindio, key=tasa_desempleo_quindio.get)\n",
    "print(f'El grupo de edad con menor tasa de desempleo en el Quindio es: {grupo_menor_td_quindio} con una tasa de {tasa_desempleo_quindio[grupo_menor_td_quindio]*100:.2f}%')\n",
    "print('---')\n",
    "#3.2. Risaralda.\n",
    "#Grupo de edad con mayor tasa de desempleo en Risaralda\n",
    "tasa_desempleo_risaralda = {\n",
    "    '18 a 24': TD_R_18_24,\n",
    "    '24 a 30': TD_R_24_30,\n",
    "    '30 a 40': TD_R_30_40,\n",
    "    '40 a 50': TD_R_40_50,\n",
    "    '60 en adelante': TD_R_60_en_adelante\n",
    "}\n",
    "grupo_mayor_td_risaralda = max(tasa_desempleo_risaralda, key=tasa_desempleo_risaralda.get)\n",
    "print(f'El grupo de edad con mayor tasa de desempleo en Risaralda es: {grupo_mayor_td_risaralda} con una tasa de {tasa_desempleo_risaralda[grupo_mayor_td_risaralda]*100:.2f}%')\n",
    "grupo_menor_td_risaralda = min(tasa_desempleo_risaralda, key=tasa_desempleo_risaralda.get)\n",
    "print(f'El grupo de edad con menor tasa de desempleo en Risaralda es: {grupo_menor_td_risaralda} con una tasa de {tasa_desempleo_risaralda[grupo_menor_td_risaralda]*100:.2f}%')\n",
    "print('---')\n",
    "#3.3. Caldas.\n",
    "#Grupo de edad con mayor tasa de desempleo en Caldas\n",
    "tasa_desempleo_caldas = {\n",
    "    '18 a 24': TD_C_18_24,\n",
    "    '24 a 30': TD_C_24_30,\n",
    "    '30 a 40': TD_C_30_40,\n",
    "    '40 a 50': TD_C_40_50,\n",
    "    '60 en adelante': TD_C_60_en_adelante\n",
    "}\n",
    "grupo_mayor_td_caldas = max(tasa_desempleo_caldas, key=tasa_desempleo_caldas.get)\n",
    "print(f'El grupo de edad con mayor tasa de desempleo en Caldas es: {grupo_mayor_td_caldas} con una tasa de {tasa_desempleo_caldas[grupo_mayor_td_caldas]*100:.2f}%')\n",
    "grupo_menor_td_caldas = min(tasa_desempleo_caldas, key=tasa_desempleo_caldas.get)\n",
    "print(f'El grupo de edad con menor tasa de desempleo en Caldas es: {grupo_menor_td_caldas} con una tasa de {tasa_desempleo_caldas[grupo_menor_td_caldas]*100:.2f}%')\n",
    "\n"
   ]
  },
  {
   "cell_type": "code",
   "execution_count": 338,
   "id": "a5f16626",
   "metadata": {},
   "outputs": [
    {
     "name": "stdout",
     "output_type": "stream",
     "text": [
      "Tasa de desempleo en mujeres entre 18 y 24 años en Quindio: 55.14%\n",
      "Tasa de desempleo en mujeres entre 18 y 24 años en Risaralda: 54.74%\n",
      "Tasa de desempleo en mujeres entre 18 y 24 años en Caldas: 49.02%\n"
     ]
    }
   ],
   "source": [
    "#4. ¿Cuáles son los 3 departamentos con menor tasa de desempleo de mujeres entre los 18 y los 25 años ? \n",
    "\n",
    "#  Primero hay que filtrar las mujeres entre 18 y 24 años en la tabla de desocupados y fuerza de trabajo\n",
    "df_desocupados_mujeres_18_24 = df_d[(df_d['P3271']==2) & (df_d['P6040_x']>=18) & (df_d['P6040_x']<=24)]\n",
    "df_ft_mujeres_18_24 = df_ft[(df_ft['P3271']==2) & (df_ft['P6040_x']>=18) & (df_ft['P6040_x']<=24)]\n",
    "\n",
    "# Calcular la tasa de desempleo para mujeres entre 18 y 24 años en Quindio\n",
    "DMQ_18_24 = df_desocupados_mujeres_18_24[df_desocupados_mujeres_18_24['DPTO']==63]['FEX_C18'].sum()\n",
    "PEAMQ_18_24 = df_ft_mujeres_18_24[df_ft_mujeres_18_24['DPTO']==63]['FEX_C18'].sum()\n",
    "TDMQ_18_24 = DMQ_18_24/PEAMQ_18_24\n",
    "print(f'Tasa de desempleo en mujeres entre 18 y 24 años en Quindio: {TDMQ_18_24*100:.2f}%')\n",
    "\n",
    "# Calcular la tasa de desempleo para mujeres entre 18 y 24 años en Risaralda\n",
    "DMR_18_24 = df_desocupados_mujeres_18_24[df_desocupados_mujeres_18_24['DPTO']==66]['FEX_C18'].sum()\n",
    "PEAMR_18_24 = df_ft_mujeres_18_24[df_ft_mujeres_18_24['DPTO']==66]['FEX_C18'].sum()\n",
    "TDMR_18_24 = DMR_18_24/PEAMR_18_24\n",
    "print(f'Tasa de desempleo en mujeres entre 18 y 24 años en Risaralda: {TDMR_18_24*100:.2f}%')\n",
    "\n",
    "# Calcular la tasa de desempleo para mujeres entre 18 y 24 años en Caldas\n",
    "DMC_18_24 = df_desocupados_mujeres_18_24[df_desocupados_mujeres_18_24['DPTO']==17]['FEX_C18'].sum()\n",
    "PEAMC_18_24 = df_ft_mujeres_18_24[df_ft_mujeres_18_24['DPTO']==17]['FEX_C18'].sum()\n",
    "TDMC_18_24 = DMC_18_24/PEAMC_18_24\n",
    "print(f'Tasa de desempleo en mujeres entre 18 y 24 años en Caldas: {TDMC_18_24*100:.2f}%')"
   ]
  },
  {
   "cell_type": "code",
   "execution_count": 339,
   "id": "7cf32d39",
   "metadata": {},
   "outputs": [
    {
     "name": "stdout",
     "output_type": "stream",
     "text": [
      "El promedio de ingresos laborales en los departamentos de Risaralda, Caldas, Quindío, Antioquia y Valle del Cauca es: $1,900,618.13\n"
     ]
    }
   ],
   "source": [
    " #5. Calcule el promedio de ingresos laborales  de las personas residentes en los departamentos de \n",
    "# Risaralda, Caldas , Quindío, Antioquia y Valle del Cauca.\n",
    "\n",
    "# Primero hay que filtrar los departamentos de interés en la tabla de ocupados\n",
    "df_ocupados_departamentos = df_o[df_o['DPTO'] .isin([17, 63, 66, 76, 88])]\n",
    "promedio_ingresos_laborales = df_ocupados_departamentos['INGLABO'].mean()\n",
    "print(f'El promedio de ingresos laborales en los departamentos de Risaralda, Caldas, Quindío, Antioquia y Valle del Cauca es: ${promedio_ingresos_laborales:,.2f}')"
   ]
  },
  {
   "cell_type": "code",
   "execution_count": 340,
   "id": "9c0422b6",
   "metadata": {},
   "outputs": [],
   "source": [
    "# 6. Para los mismos departamentos del punto anterior, \n",
    "# calcule el promedio de ingresos laborales de hombres y mujeres en los siguientes rangos de edad : \n",
    "#18 a 24\n",
    "# 24 a 30\n",
    "# 30 a 40\n",
    "# 40 a 50 \n",
    "# 60 en adelante \n",
    "\n",
    "# Primero hay que anexar la P3271 y P6040 a la tabla de ocupados\n",
    "df_o = pd.merge(df_o, df_cgsse[['DIRECTORIO', 'SECUENCIA_P', 'ORDEN', 'P3271' , 'P6040']], \n",
    "                        on=['DIRECTORIO', 'SECUENCIA_P', 'ORDEN'], how='left')\n",
    "\n",
    "df_ft = pd.merge(df_ft, df_cgsse[['DIRECTORIO', 'SECUENCIA_P', 'ORDEN', 'P3271' , 'P6040']], \n",
    "                        on=['DIRECTORIO', 'SECUENCIA_P', 'ORDEN'], how='left')\n",
    "# Filtrar los departamentos de interés en la tabla de ocupados\n",
    "df_o = df_o[df_o['DPTO'].isin([17, 63, 66, 76, 88])]\n"
   ]
  },
  {
   "cell_type": "code",
   "execution_count": 341,
   "id": "029c56ae",
   "metadata": {},
   "outputs": [
    {
     "name": "stdout",
     "output_type": "stream",
     "text": [
      "El promedio de ingresos laborales en el Quindio para hombres de 18 a 24 años es: $1,346,823.29\n",
      "El promedio de ingresos laborales en el Quindio para mujeres de 18 a 24 años es: $1,382,510.87\n",
      "---\n",
      "El promedio de ingresos laborales en el Quindio para hombres de 24 a 30 años es: $1,562,511.79\n",
      "El promedio de ingresos laborales en el Quindio para mujeres de 24 a 30 años es: $1,656,674.39\n",
      "---\n",
      "El promedio de ingresos laborales en el Quindio para hombres de 30 a 40 años es: $2,012,999.19\n",
      "El promedio de ingresos laborales en el Quindio para mujeres de 30 a 40 años es: $2,009,730.77\n",
      "---\n",
      "El promedio de ingresos laborales en el Quindio para hombres de 40 a 50 años es: $1,971,336.31\n",
      "El promedio de ingresos laborales en el Quindio para mujeres de 40 a 50 años es: $1,834,915.51\n",
      "---\n",
      "El promedio de ingresos laborales en el Quindio para hombres de 60 en adelante es: $1,593,688.14\n",
      "El promedio de ingresos laborales en el Quindio para mujeres de 60 en adelante es: $1,121,365.85\n"
     ]
    }
   ],
   "source": [
    "# 6.1. Quindio.\n",
    "\n",
    "#Promedio de ingresos laborales en el Quindio para hombres y mujeres de 18 a 24 años\n",
    "promedio_ingresos_quindio_18_24_hombres = df_o[(df_o['DPTO']==63) & (df_o['P3271']==1) & (df_o['P6040']>=18) & (df_o['P6040']<=24) ]['INGLABO'].mean()\n",
    "promedio_ingresos_quindio_18_24_mujeres = df_o[(df_o['DPTO']==63) & (df_o['P3271']==2) & (df_o['P6040']>=18) & (df_o['P6040']<=24) ]['INGLABO'].mean()\n",
    "print(f'El promedio de ingresos laborales en el Quindio para hombres de 18 a 24 años es: ${promedio_ingresos_quindio_18_24_hombres:,.2f}')\n",
    "print(f'El promedio de ingresos laborales en el Quindio para mujeres de 18 a 24 años es: ${promedio_ingresos_quindio_18_24_mujeres:,.2f}')\n",
    "print('---')\n",
    "#Promedio de ingresos laborales en el Quindio para hombres y mujeres de 24 a 30 años\n",
    "promedio_ingresos_quindio_24_30_hombres = df_o[(df_o['DPTO']==63) & (df_o['P3271']==1) & (df_o['P6040']>24) & (df_o['P6040']<=30) ]['INGLABO'].mean()\n",
    "promedio_ingresos_quindio_24_30_mujeres = df_o[(df_o['DPTO']==63) & (df_o['P3271']==2) & (df_o['P6040']>24) & (df_o['P6040']<=30) ]['INGLABO'].mean()\n",
    "print(f'El promedio de ingresos laborales en el Quindio para hombres de 24 a 30 años es: ${promedio_ingresos_quindio_24_30_hombres:,.2f}')\n",
    "print(f'El promedio de ingresos laborales en el Quindio para mujeres de 24 a 30 años es: ${promedio_ingresos_quindio_24_30_mujeres:,.2f}') \n",
    "print('---')\n",
    "#Promedio de ingresos laborales en el Quindio para hombres y mujeres de 30 a 40 años\n",
    "promedio_ingresos_quindio_30_40_hombres = df_o[(df_o['DPTO']==63) & (df_o['P3271']==1) & (df_o['P6040']>30) & (df_o['P6040']<=40) ]['INGLABO'].mean()\n",
    "promedio_ingresos_quindio_30_40_mujeres = df_o[(df_o['DPTO']==63) & (df_o['P3271']==2) & (df_o['P6040']>30) & (df_o['P6040']<=40) ]['INGLABO'].mean()\n",
    "print(f'El promedio de ingresos laborales en el Quindio para hombres de 30 a 40 años es: ${promedio_ingresos_quindio_30_40_hombres:,.2f}')\n",
    "print(f'El promedio de ingresos laborales en el Quindio para mujeres de 30 a 40 años es: ${promedio_ingresos_quindio_30_40_mujeres:,.2f}')\n",
    "print('---')\n",
    "#Promedio de ingresos laborales en el Quindio para hombres y mujeres de 40 a 50 años\n",
    "promedio_ingresos_quindio_40_50_hombres = df_o[(df_o['DPTO']==63) & (df_o['P3271']==1) & (df_o['P6040']>40) & (df_o['P6040']<=50) ]['INGLABO'].mean()\n",
    "promedio_ingresos_quindio_40_50_mujeres = df_o[(df_o['DPTO']==63) & (df_o['P3271']==2) & (df_o['P6040']>40) & (df_o['P6040']<=50) ]['INGLABO'].mean()\n",
    "print(f'El promedio de ingresos laborales en el Quindio para hombres de 40 a 50 años es: ${promedio_ingresos_quindio_40_50_hombres:,.2f}')\n",
    "print(f'El promedio de ingresos laborales en el Quindio para mujeres de 40 a 50 años es: ${promedio_ingresos_quindio_40_50_mujeres:,.2f}')\n",
    "print('---')\n",
    "#Promedio de ingresos laborales en el Quindio para hombres y mujeres de 60 en adelante\n",
    "promedio_ingresos_quindio_60_en_adelante_hombres = df_o[(df_o['DPTO']==63) & (df_o['P3271']==1) & (df_o['P6040']>60) ]['INGLABO'].mean()\n",
    "promedio_ingresos_quindio_60_en_adelante_mujeres = df_o[(df_o['DPTO']==63) & (df_o['P3271']==2) & (df_o['P6040']>60) ]['INGLABO'].mean()\n",
    "print(f'El promedio de ingresos laborales en el Quindio para hombres de 60 en adelante es: ${promedio_ingresos_quindio_60_en_adelante_hombres:,.2f}')\n",
    "print(f'El promedio de ingresos laborales en el Quindio para mujeres de 60 en adelante es: ${promedio_ingresos_quindio_60_en_adelante_mujeres:,.2f}')\n",
    "\n"
   ]
  },
  {
   "cell_type": "code",
   "execution_count": 342,
   "id": "2b2c6a53",
   "metadata": {},
   "outputs": [
    {
     "name": "stdout",
     "output_type": "stream",
     "text": [
      "El promedio de ingresos laborales en Risaralda para hombres de 18 a 24 años es: $1,689,201.04\n",
      "El promedio de ingresos laborales en Risaralda para mujeres de 18 a 24 años es: $1,419,745.00\n",
      "---\n",
      "El promedio de ingresos laborales en Risaralda para hombres de 24 a 30 años es: $1,806,526.96\n",
      "El promedio de ingresos laborales en Risaralda para mujeres de 24 a 30 años es: $1,697,712.39\n",
      "---\n",
      "El promedio de ingresos laborales en Risaralda para hombres de 30 a 40 años es: $2,017,492.27\n",
      "El promedio de ingresos laborales en Risaralda para mujeres de 30 a 40 años es: $1,717,312.17\n",
      "---\n",
      "El promedio de ingresos laborales en Risaralda para hombres de 40 a 50 años es: $1,786,540.83\n",
      "El promedio de ingresos laborales en Risaralda para mujeres de 40 a 50 años es: $1,811,862.07\n",
      "---\n",
      "El promedio de ingresos laborales en Risaralda para hombres de 60 en adelante es: $1,345,547.62\n",
      "El promedio de ingresos laborales en Risaralda para mujeres de 60 en adelante es: $953,500.00\n"
     ]
    }
   ],
   "source": [
    "#6.2. Risaralda.\n",
    "\n",
    "#Promedio de ingresos laborales en Risaralda para hombres y mujeres de 18 a 24 años\n",
    "promedio_ingresos_risaralda_18_24_hombres = df_o[(df_o['DPTO']==66) & (df_o['P3271']==1) & (df_o['P6040']>=18) & (df_o['P6040']<=24) ]['INGLABO'].mean()\n",
    "promedio_ingresos_risaralda_18_24_mujeres = df_o[(df_o['DPTO']==66) & (df_o['P3271']==2) & (df_o['P6040']>=18) & (df_o['P6040']<=24) ]['INGLABO'].mean()\n",
    "print(f'El promedio de ingresos laborales en Risaralda para hombres de 18 a 24 años es: ${promedio_ingresos_risaralda_18_24_hombres:,.2f}')\n",
    "print(f'El promedio de ingresos laborales en Risaralda para mujeres de 18 a 24 años es: ${promedio_ingresos_risaralda_18_24_mujeres:,.2f}')\n",
    "print('---')\n",
    "#Promedio de ingresos laborales en Risaralda para hombres y mujeres de 24 a 30 años\n",
    "promedio_ingresos_risaralda_24_30_hombres = df_o[(df_o['DPTO']==66) & (df_o['P3271']==1) & (df_o['P6040']>24) & (df_o['P6040']<=30) ]['INGLABO'].mean()\n",
    "promedio_ingresos_risaralda_24_30_mujeres = df_o[(df_o['DPTO']==66) & (df_o['P3271']==2) & (df_o['P6040']>24) & (df_o['P6040']<=30) ]['INGLABO'].mean()\n",
    "print(f'El promedio de ingresos laborales en Risaralda para hombres de 24 a 30 años es: ${promedio_ingresos_risaralda_24_30_hombres:,.2f}')\n",
    "print(f'El promedio de ingresos laborales en Risaralda para mujeres de 24 a 30 años es: ${promedio_ingresos_risaralda_24_30_mujeres:,.2f}')\n",
    "print('---')\n",
    "#Promedio de ingresos laborales en Risaralda para hombres y mujeres de 30 a 40 años\n",
    "promedio_ingresos_risaralda_30_40_hombres = df_o[(df_o['DPTO']==66) & (df_o['P3271']==1) & (df_o['P6040']>30) & (df_o['P6040']<=40) ]['INGLABO'].mean()\n",
    "promedio_ingresos_risaralda_30_40_mujeres = df_o[(df_o['DPTO']==66) & (df_o['P3271']==2) & (df_o['P6040']>30) & (df_o['P6040']<=40) ]['INGLABO'].mean()\n",
    "print(f'El promedio de ingresos laborales en Risaralda para hombres de 30 a 40 años es: ${promedio_ingresos_risaralda_30_40_hombres:,.2f}')\n",
    "print(f'El promedio de ingresos laborales en Risaralda para mujeres de 30 a 40 años es: ${promedio_ingresos_risaralda_30_40_mujeres:,.2f}')\n",
    "print('---')\n",
    "#Promedio de ingresos laborales en Risaralda para hombres y mujeres de 40 a 50 años\n",
    "promedio_ingresos_risaralda_40_50_hombres = df_o[(df_o['DPTO']==66) & (df_o['P3271']==1) & (df_o['P6040']>40) & (df_o['P6040']<=50) ]['INGLABO'].mean()\n",
    "promedio_ingresos_risaralda_40_50_mujeres = df_o[(df_o['DPTO']==66) & (df_o['P3271']==2) & (df_o['P6040']>40) & (df_o['P6040']<=50) ]['INGLABO'].mean()\n",
    "print(f'El promedio de ingresos laborales en Risaralda para hombres de 40 a 50 años es: ${promedio_ingresos_risaralda_40_50_hombres:,.2f}')\n",
    "print(f'El promedio de ingresos laborales en Risaralda para mujeres de 40 a 50 años es: ${promedio_ingresos_risaralda_40_50_mujeres:,.2f}')\n",
    "print('---')\n",
    "#Promedio de ingresos laborales en Risaralda para hombres y mujeres de 60 en adelante\n",
    "promedio_ingresos_risaralda_60_en_adelante_hombres = df_o[(df_o['DPTO']==66) & (df_o['P3271']==1) & (df_o['P6040']>60) ]['INGLABO'].mean()\n",
    "promedio_ingresos_risaralda_60_en_adelante_mujeres = df_o[(df_o['DPTO']==66) & (df_o['P3271']==2) & (df_o['P6040']>60) ]['INGLABO'].mean()\n",
    "print(f'El promedio de ingresos laborales en Risaralda para hombres de 60 en adelante es: ${promedio_ingresos_risaralda_60_en_adelante_hombres:,.2f}')\n",
    "print(f'El promedio de ingresos laborales en Risaralda para mujeres de 60 en adelante es: ${promedio_ingresos_risaralda_60_en_adelante_mujeres:,.2f}')"
   ]
  },
  {
   "cell_type": "code",
   "execution_count": 343,
   "id": "0361f103",
   "metadata": {},
   "outputs": [
    {
     "name": "stdout",
     "output_type": "stream",
     "text": [
      "El promedio de ingresos laborales en Caldas para hombres de 18 a 24 años es: $1,713,223.96\n",
      "El promedio de ingresos laborales en Caldas para mujeres de 18 a 24 años es: $1,293,936.62\n",
      "---\n",
      "El promedio de ingresos laborales en Caldas para hombres de 24 a 30 años es: $2,106,967.48\n",
      "El promedio de ingresos laborales en Caldas para mujeres de 24 a 30 años es: $1,752,290.09\n",
      "---\n",
      "El promedio de ingresos laborales en Caldas para hombres de 30 a 40 años es: $1,970,614.18\n",
      "El promedio de ingresos laborales en Caldas para mujeres de 30 a 40 años es: $2,211,219.48\n",
      "---\n",
      "El promedio de ingresos laborales en Caldas para hombres de 40 a 50 años es: $3,116,710.37\n",
      "El promedio de ingresos laborales en Caldas para mujeres de 40 a 50 años es: $2,335,339.39\n",
      "---\n",
      "El promedio de ingresos laborales en Caldas para hombres de 60 en adelante es: $2,484,590.12\n",
      "El promedio de ingresos laborales en Caldas para mujeres de 60 en adelante es: $1,760,803.57\n"
     ]
    }
   ],
   "source": [
    "#6.3. Caldas.\n",
    "\n",
    "#Promedio de ingresos laborales en Caldas para hombres y mujeres de 18 a 24 años\n",
    "promedio_ingresos_caldas_18_24_hombres = df_o[(df_o['DPTO']==17) & (df_o['P3271']==1) & (df_o['P6040']>=18) & (df_o['P6040']<=24) ]['INGLABO'].mean()\n",
    "promedio_ingresos_caldas_18_24_mujeres = df_o[(df_o['DPTO']==17) & (df_o['P3271']==2) & (df_o['P6040']>=18) & (df_o['P6040']<=24) ]['INGLABO'].mean()\n",
    "print(f'El promedio de ingresos laborales en Caldas para hombres de 18 a 24 años es: ${promedio_ingresos_caldas_18_24_hombres:,.2f}')\n",
    "print(f'El promedio de ingresos laborales en Caldas para mujeres de 18 a 24 años es: ${promedio_ingresos_caldas_18_24_mujeres:,.2f}')\n",
    "print('---')\n",
    "#Promedio de ingresos laborales en Caldas para hombres y mujeres de 24 a 30 años\n",
    "promedio_ingresos_caldas_24_30_hombres = df_o[(df_o['DPTO']==17) & (df_o['P3271']==1) & (df_o['P6040']>24) & (df_o['P6040']<=30) ]['INGLABO'].mean()\n",
    "promedio_ingresos_caldas_24_30_mujeres = df_o[(df_o['DPTO']==17) & (df_o['P3271']==2) & (df_o['P6040']>24) & (df_o['P6040']<=30) ]['INGLABO'].mean()\n",
    "print(f'El promedio de ingresos laborales en Caldas para hombres de 24 a 30 años es: ${promedio_ingresos_caldas_24_30_hombres:,.2f}')\n",
    "print(f'El promedio de ingresos laborales en Caldas para mujeres de 24 a 30 años es: ${promedio_ingresos_caldas_24_30_mujeres:,.2f}')\n",
    "print('---')\n",
    "#Promedio de ingresos laborales en Caldas para hombres y mujeres de 30 a 40 años\n",
    "promedio_ingresos_caldas_30_40_hombres = df_o[(df_o['DPTO']==17) & (df_o['P3271']==1) & (df_o['P6040']>30) & (df_o['P6040']<=40) ]['INGLABO'].mean()\n",
    "promedio_ingresos_caldas_30_40_mujeres = df_o[(df_o['DPTO']==17) & (df_o['P3271']==2) & (df_o['P6040']>30) & (df_o['P6040']<=40) ]['INGLABO'].mean()\n",
    "print(f'El promedio de ingresos laborales en Caldas para hombres de 30 a 40 años es: ${promedio_ingresos_caldas_30_40_hombres:,.2f}')\n",
    "print(f'El promedio de ingresos laborales en Caldas para mujeres de 30 a 40 años es: ${promedio_ingresos_caldas_30_40_mujeres:,.2f}')\n",
    "print('---')\n",
    "#Promedio de ingresos laborales en Caldas para hombres y mujeres de 40 a 50 años\n",
    "promedio_ingresos_caldas_40_50_hombres = df_o[(df_o['DPTO']==17) & (df_o['P3271']==1) & (df_o['P6040']>40) & (df_o['P6040']<=50) ]['INGLABO'].mean()\n",
    "promedio_ingresos_caldas_40_50_mujeres = df_o[(df_o['DPTO']==17) & (df_o['P3271']==2) & (df_o['P6040']>40) & (df_o['P6040']<=50) ]['INGLABO'].mean()\n",
    "print(f'El promedio de ingresos laborales en Caldas para hombres de 40 a 50 años es: ${promedio_ingresos_caldas_40_50_hombres:,.2f}')\n",
    "print(f'El promedio de ingresos laborales en Caldas para mujeres de 40 a 50 años es: ${promedio_ingresos_caldas_40_50_mujeres:,.2f}')\n",
    "print('---')\n",
    "#Promedio de ingresos laborales en Caldas para hombres y mujeres de 60 en adelante\n",
    "promedio_ingresos_caldas_60_en_adelante_hombres = df_o[(df_o['DPTO']==17) & (df_o['P3271']==1) & (df_o['P6040']>60) ]['INGLABO'].mean()\n",
    "promedio_ingresos_caldas_60_en_adelante_mujeres = df_o[(df_o['DPTO']==17) & (df_o['P3271']==2) & (df_o['P6040']>60) ]['INGLABO'].mean()\n",
    "print(f'El promedio de ingresos laborales en Caldas para hombres de 60 en adelante es: ${promedio_ingresos_caldas_60_en_adelante_hombres:,.2f}')\n",
    "print(f'El promedio de ingresos laborales en Caldas para mujeres de 60 en adelante es: ${promedio_ingresos_caldas_60_en_adelante_mujeres:,.2f}')"
   ]
  },
  {
   "cell_type": "code",
   "execution_count": null,
   "id": "c6e2c0a4",
   "metadata": {},
   "outputs": [],
   "source": []
  }
 ],
 "metadata": {
  "kernelspec": {
   "display_name": "Python 3",
   "language": "python",
   "name": "python3"
  },
  "language_info": {
   "codemirror_mode": {
    "name": "ipython",
    "version": 3
   },
   "file_extension": ".py",
   "mimetype": "text/x-python",
   "name": "python",
   "nbconvert_exporter": "python",
   "pygments_lexer": "ipython3",
   "version": "3.12.1"
  }
 },
 "nbformat": 4,
 "nbformat_minor": 5
}
