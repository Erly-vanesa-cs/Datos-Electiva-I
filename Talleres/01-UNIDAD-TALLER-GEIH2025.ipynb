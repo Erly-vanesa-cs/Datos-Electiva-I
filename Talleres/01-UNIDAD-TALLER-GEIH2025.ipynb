{
 "cells": [
  {
   "cell_type": "code",
   "execution_count": 28,
   "id": "f4ede4f1",
   "metadata": {},
   "outputs": [],
   "source": [
    "import pandas as pd\n",
    "import numpy as np\n",
    "import matplotlib.pyplot as plt\n"
   ]
  },
  {
   "cell_type": "code",
   "execution_count": 29,
   "id": "74cc4f69",
   "metadata": {},
   "outputs": [],
   "source": [
    "#Caracteristicas generales, seguridad social en salud y educacion\n",
    "\n",
    "# Links a los conjuntos de datos\n",
    "url_cgsse = 'https://raw.githubusercontent.com/niconomist98/DataAnalyticsUQ/main/Datos/GEIH2024/CGSSE.CSV'\n",
    "url_ocupados = 'https://raw.githubusercontent.com/niconomist98/DataAnalyticsUQ/main/Datos/GEIH2024/Ocupados.CSV'\n",
    "url_ft = 'https://raw.githubusercontent.com/niconomist98/DataAnalyticsUQ/main/Datos/GEIH2024/Fuerza%20de%20trabajo.CSV'\n",
    "url_desocupados = 'https://raw.githubusercontent.com/niconomist98/DataAnalyticsUQ/main/Datos/GEIH2024/No%20ocupados.CSV'\n",
    "\n",
    "# CGSSE\n",
    "df_cgsse = pd.read_csv(url_cgsse, encoding='latin-1', sep=';', \n",
    "                       low_memory=False)\n",
    "\n",
    "#Ocupados\n",
    "df_ocupados=pd.read_csv(url_ocupados,encoding='latin-1',sep=';',\n",
    "                       low_memory=False)\n",
    "\n",
    "#Fuerza de trabajo\n",
    "df_ft=pd.read_csv(url_ft,\n",
    "                  encoding='latin-1',sep=';',low_memory=False)\n",
    "#No ocupados\n",
    "df_desocupados=pd.read_csv(url_desocupados,encoding='latin-1',\n",
    "                           sep=';',low_memory=False)"
   ]
  },
  {
   "cell_type": "code",
   "execution_count": 30,
   "id": "5db538b0",
   "metadata": {},
   "outputs": [],
   "source": [
    "#Taller mercado laboral GEIH 2025 \n",
    "#Interpretar y explicar textualmente todas las respuesta\n"
   ]
  },
  {
   "cell_type": "code",
   "execution_count": 31,
   "id": "843e655c",
   "metadata": {},
   "outputs": [
    {
     "name": "stdout",
     "output_type": "stream",
     "text": [
      "Población total representada: 51,569,605 personas\n"
     ]
    }
   ],
   "source": [
    "#1. Para el total nacional calcular:\n",
    "\n",
    "#POBLACION TOTAL.\n",
    "poblacion_total = df_cgsse['FEX_C18'].sum()\n",
    "print(f\"Población total representada: {poblacion_total:,.0f} personas\")\n"
   ]
  },
  {
   "cell_type": "code",
   "execution_count": 32,
   "id": "0ec926b2",
   "metadata": {},
   "outputs": [
    {
     "name": "stdout",
     "output_type": "stream",
     "text": [
      "Poblacion en edad de trabajar: 40142096\n"
     ]
    }
   ],
   "source": [
    "#POBLACION EN EDAD DE TRABAJAR.\n",
    "PET = df_cgsse[df_cgsse['P6040']>=15]['FEX_C18'].sum()\n",
    "print(f'Poblacion en edad de trabajar: {int(PET)}')"
   ]
  },
  {
   "cell_type": "code",
   "execution_count": 33,
   "id": "92efbd97",
   "metadata": {},
   "outputs": [
    {
     "name": "stdout",
     "output_type": "stream",
     "text": [
      "Poblacion que no está en  edad de trabajar: 11427507\n"
     ]
    }
   ],
   "source": [
    "#POBLACION QUE NO ESTA EN EDAD DE TRABAJAR.\n",
    "PNET = df_cgsse[df_cgsse['P6040']<15]['FEX_C18'].sum()\n",
    "print(f'Poblacion que no está en  edad de trabajar: {int(PNET)}')"
   ]
  },
  {
   "cell_type": "code",
   "execution_count": 34,
   "id": "e0738ab4",
   "metadata": {},
   "outputs": [
    {
     "name": "stdout",
     "output_type": "stream",
     "text": [
      "Poblacion Economicamente Activa: 25757665\n"
     ]
    }
   ],
   "source": [
    "#POBLACION ECONOMICAMENTE ACTIVA\n",
    "PEA = df_ft[df_ft['FT']==1.0]['FEX_C18'].sum()\n",
    "print(f'Poblacion Economicamente Activa: {int(PEA)}')"
   ]
  },
  {
   "cell_type": "code",
   "execution_count": 35,
   "id": "5573ca27",
   "metadata": {},
   "outputs": [
    {
     "name": "stdout",
     "output_type": "stream",
     "text": [
      "Poblacion Economicamente inactiva: 14384431\n"
     ]
    }
   ],
   "source": [
    "#POBLACION ECONOMICAMENTE INACTIVA\n",
    "PEI = df_ft[df_ft['FFT']==1]['FEX_C18'].sum()\n",
    "print(f'Poblacion Economicamente inactiva: {int(PEI)}')\n"
   ]
  },
  {
   "cell_type": "code",
   "execution_count": 36,
   "id": "f50b65f9",
   "metadata": {},
   "outputs": [
    {
     "name": "stdout",
     "output_type": "stream",
     "text": [
      "Población Ocupada 23202982\n",
      " Tasa de ocupacion 57.8\n"
     ]
    }
   ],
   "source": [
    "#TASA DE OCUPADOS\n",
    "\n",
    "#Poblacion Ocupada\n",
    "O=df_ocupados[(df_ocupados['OCI']==1)]['FEX_C18'].sum()\n",
    "print(f'Población Ocupada {int(O)}')\n",
    "\n",
    "TO=O/PET*100\n",
    "print(f' Tasa de ocupacion {round(TO,1)}')\n",
    "\n"
   ]
  },
  {
   "cell_type": "code",
   "execution_count": 37,
   "id": "d63546fd",
   "metadata": {},
   "outputs": [
    {
     "name": "stdout",
     "output_type": "stream",
     "text": [
      "Poblacion Desempleada: 2554682\n",
      "Tasa de Desempleo: 9.92%\n"
     ]
    }
   ],
   "source": [
    "#TASA DE DESEMPLEADOS\n",
    "\n",
    "#POBLACION DESEMPLEADA.\n",
    "D=df_desocupados[df_desocupados['DSI']==1]['FEX_C18'].sum()\n",
    "print(f'Poblacion Desempleada: {int(D)}')\n",
    "\n",
    "TD = D/PEA\n",
    "print(f'Tasa de Desempleo: {TD*100:.2f}%')"
   ]
  },
  {
   "cell_type": "code",
   "execution_count": 43,
   "id": "6933a1a1",
   "metadata": {},
   "outputs": [
    {
     "name": "stdout",
     "output_type": "stream",
     "text": [
      "      PERIODO;MES;PER;DIRECTORIO;SECUENCIA_P;ORDEN;HOGAR;REGIS;AREA;CLASE;FEX_C18;DPTO;FT;P3044S2;P6440;P6450;P6460;P6460S1;P6400;P6410;P6422;P6420S2;P6424S1;P6424S2;P6424S3;P6424S5;P6426;P6430;P6430S1;P3045S1;P3045S2;P3045S3;P3046;P3363;P9440;P6500;P3364;P3364S1;P6510;P6510S1;P6510S2;P6590;P6590S1;P6600;P6600S1;P6610;P6610S1;P6620;P6620S1;P6585S1;P6585S1A1;P6585S1A2;P6585S2;P6585S2A1;P6585S2A2;P6585S3;P6585S3A1;P6585S3A2;P6585S4;P6585S4A1;P6585S4A2;P6545;P6545S1;P6545S2;P6580;P6580S1;P6580S2;P6630S1;P6630S1A1;P6630S2;P6630S2A1;P6630S3;P6630S3A1;P6630S4;P6630S4A1;P6630S6;P6630S6A1;P6640;P6640S1;P1800;P1800S1;P1801S1;P1801S2;P1801S3;P1802;P3047;P3048;P3049;P6765;P6765S1;P3051;P3051S1;P3052;P3052S1;P3053;P3365;P3365S1;P3054;P3054S1;P3055;P3055S1;P3056;P3057;P6760;P3058S1;P3058S2;P3058S3;P3058S4;P3058S5;P3059;P3061;P3062S1;P3062S2;P3062S3;P3062S4;P3062S5;P3062S6;P3062S7;P3062S8;P3062S9;P3063;P3063S1;P3064;P3064S1;P3065;P3066;P3067;P3067S1;P3067S2;P6775;P3068;P6750;P3073;P550;P6780;P6780S1;P1879;P1805;P6790;P6800;P6810;P6810S1;P6850;P6830;P6830S1;P3366;P3069;P6880;P6880S1;P6915;P6915S1;P6920;P6930;P6940;P6960;P6990;P9450;P7020;P760;P7026;P7028;P7028S1;P1880;P1880S1;P7040;P7045;P7050;P7070;P7075;P7077;P7090;P7100;P7110;P7120;P7130;P7140S1;P7140S2;P7140S3;P7140S4;P7140S5;P7140S6;P7140S7;P7140S8;P7140S9;P7150;P7160;P7170S1;P7170S5;P7170S6;P7180;P514;P515;P1881;P1882;P7240;OCI;INGLABO;RAMA2D_R4;RAMA4D_R4;OFICIO_C8\n",
      "0      20240730;07;2024;7858603;1;1;1;60;;2;590.19988...                                                                                                                                                                                                                                                                                                                                                                                                                                                                                                                                                                                                                                                                                                                                                                                                                                                                                                                                                                                                                                                                                                                                                                                                                                                                                                                                                                                                                             \n",
      "1      20240730;07;2024;7858603;1;3;1;60;;2;590.19988...                                                                                                                                                                                                                                                                                                                                                                                                                                                                                                                                                                                                                                                                                                                                                                                                                                                                                                                                                                                                                                                                                                                                                                                                                                                                                                                                                                                                                             \n",
      "2      20240730;07;2024;7858604;1;1;1;60;;2;576.66288...                                                                                                                                                                                                                                                                                                                                                                                                                                                                                                                                                                                                                                                                                                                                                                                                                                                                                                                                                                                                                                                                                                                                                                                                                                                                                                                                                                                                                             \n",
      "3      20240730;07;2024;7858604;1;2;1;60;;2;576.66288...                                                                                                                                                                                                                                                                                                                                                                                                                                                                                                                                                                                                                                                                                                                                                                                                                                                                                                                                                                                                                                                                                                                                                                                                                                                                                                                                                                                                                             \n",
      "4      20240730;07;2024;7858605;1;1;1;60;;2;583.52890...                                                                                                                                                                                                                                                                                                                                                                                                                                                                                                                                                                                                                                                                                                                                                                                                                                                                                                                                                                                                                                                                                                                                                                                                                                                                                                                                                                                                                             \n",
      "...                                                  ...                                                                                                                                                                                                                                                                                                                                                                                                                                                                                                                                                                                                                                                                                                                                                                                                                                                                                                                                                                                                                                                                                                                                                                                                                                                                                                                                                                                                                             \n",
      "29924  20240728;07;2024;7889224;1;1;1;60;76;1;1551.02...                                                                                                                                                                                                                                                                                                                                                                                                                                                                                                                                                                                                                                                                                                                                                                                                                                                                                                                                                                                                                                                                                                                                                                                                                                                                                                                                                                                                                             \n",
      "29925  20240729;07;2024;7889226;1;1;1;60;88;1;72.7555...                                                                                                                                                                                                                                                                                                                                                                                                                                                                                                                                                                                                                                                                                                                                                                                                                                                                                                                                                                                                                                                                                                                                                                                                                                                                                                                                                                                                                             \n",
      "29926  20240730;07;2024;7889227;1;1;1;60;88;1;46.8729...                                                                                                                                                                                                                                                                                                                                                                                                                                                                                                                                                                                                                                                                                                                                                                                                                                                                                                                                                                                                                                                                                                                                                                                                                                                                                                                                                                                                                             \n",
      "29927  20240730;07;2024;7889227;1;3;1;60;88;1;46.8729...                                                                                                                                                                                                                                                                                                                                                                                                                                                                                                                                                                                                                                                                                                                                                                                                                                                                                                                                                                                                                                                                                                                                                                                                                                                                                                                                                                                                                             \n",
      "29928  20240730;07;2024;7889227;1;4;1;60;88;1;46.8729...                                                                                                                                                                                                                                                                                                                                                                                                                                                                                                                                                                                                                                                                                                                                                                                                                                                                                                                                                                                                                                                                                                                                                                                                                                                                                                                                                                                                                             \n",
      "\n",
      "[29929 rows x 1 columns]       PERIODO;MES;PER;DIRECTORIO;SECUENCIA_P;ORDEN;HOGAR;REGIS;AREA;CLASE;FEX_C18;DPTO;FFT;DSCY;DSI;P7250;P7280;P744;P3074;P7260;P1806;P7430;P7440S1;P7440S2;P7450;P7350;P7360;P9460;P1519;P1883;P7422;P7422S1;OFICIO1_C8;OFICIO2_C8;RAMA2D_D_R4;RAMA4D_D_R4;P7440\n",
      "0      20240730;07;2024;7858603;1;2;1;70;;2;590.19988...                                                                                                                                                                                                          \n",
      "1      20240730;07;2024;7858605;1;2;1;70;;2;583.52890...                                                                                                                                                                                                          \n",
      "2      20240730;07;2024;7858606;1;3;1;70;;2;729.33401...                                                                                                                                                                                                          \n",
      "3      20240730;07;2024;7858607;1;2;1;70;;2;636.45128...                                                                                                                                                                                                          \n",
      "4      20240730;07;2024;7858607;1;3;1;70;;2;636.45128...                                                                                                                                                                                                          \n",
      "...                                                  ...                                                                                                                                                                                                          \n",
      "25104  20240727;07;2024;7889223;1;4;1;70;76;1;1888.25...                                                                                                                                                                                                          \n",
      "25105  20240728;07;2024;7889224;1;2;1;70;76;1;1551.02...                                                                                                                                                                                                          \n",
      "25106  20240728;07;2024;7889224;1;3;1;70;76;1;1551.02...                                                                                                                                                                                                          \n",
      "25107  20240729;07;2024;7889226;1;2;1;70;88;1;72.7555...                                                                                                                                                                                                          \n",
      "25108  20240730;07;2024;7889227;1;2;1;70;88;1;46.8729...                                                                                                                                                                                                          \n",
      "\n",
      "[25109 rows x 1 columns]\n"
     ]
    }
   ],
   "source": [
    "# Cargo la base de ocupados y desocupados\n",
    "url_ocupados = 'https://raw.githubusercontent.com/niconomist98/DataAnalyticsUQ/main/Datos/GEIH2024/Ocupados.CSV'\n",
    "url_desocupados = 'https://raw.githubusercontent.com/niconomist98/DataAnalyticsUQ/main/Datos/GEIH2024/No%20ocupados.CSV'\n",
    "\n",
    "df_ocupados = pd.read_csv(url_ocupados, encoding='latin-1')\n",
    "df_desocupados = pd.read_csv(url_desocupados, encoding='latin-1')\n",
    "print(df_ocupados,df_desocupados)\n",
    "\n",
    "\n"
   ]
  }
 ],
 "metadata": {
  "kernelspec": {
   "display_name": "Python 3",
   "language": "python",
   "name": "python3"
  },
  "language_info": {
   "codemirror_mode": {
    "name": "ipython",
    "version": 3
   },
   "file_extension": ".py",
   "mimetype": "text/x-python",
   "name": "python",
   "nbconvert_exporter": "python",
   "pygments_lexer": "ipython3",
   "version": "3.12.1"
  }
 },
 "nbformat": 4,
 "nbformat_minor": 5
}
