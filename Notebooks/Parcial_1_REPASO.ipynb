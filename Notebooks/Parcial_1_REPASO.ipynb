{
 "cells": [
  {
   "cell_type": "code",
   "execution_count": 1,
   "id": "6bb5354f",
   "metadata": {},
   "outputs": [],
   "source": [
    "import pandas as pd\n",
    "import numpy as np\n",
    "import matplotlib.pyplot as plt\n",
    "from pathlib import Path\n",
    "\n",
    "url_repaso_parcial_identificacion = 'https://github.com/niconomist98/DataAnalyticsUQ/raw/refs/heads/main/Datos/EMICRON/emicron_identificacion.csv'\n",
    "\n",
    "repaso_parcial_emicron_identificacion = pd.read_csv(url_repaso_parcial_identificacion)\n",
    "\n",
    "repaso_parcial_emicron_identificacion.head() \n",
    "\n",
    "url_repaso_parcial_emprendimiento = 'https://github.com/willineitor/WILLIDATABASE/raw/refs/heads/main/Talleres/M%C3%B3dulo%20de%20emprendimiento.csv'\n",
    "\n",
    "repaso_parcial_emicron_emprendimiento = pd.read_csv(url_repaso_parcial_emprendimiento)"
   ]
  },
  {
   "cell_type": "code",
   "execution_count": 2,
   "id": "700addca",
   "metadata": {},
   "outputs": [
    {
     "name": "stdout",
     "output_type": "stream",
     "text": [
      "Cantidad de micronegocios en el Quindio encabezados por hombres entre 18 y 28 años: 1531.3\n",
      "Cantidad de micronegocios en el Quindio encabezados por mujeres entre 18 y 28 años: 2281.8\n"
     ]
    }
   ],
   "source": [
    "# 1. CALCULE LA CANTIDAD DE MICRONEGOCIIOS QUE HAY EN EL DEPARTARMENTO DEL QUINDIO \n",
    "# ENCABEZADA POR HOMBRES Y MUJERES ENTRE LOS 18 Y 28 AÑOS\n",
    "\n",
    "CDAD_MICRO_Q_H_18_28 = repaso_parcial_emicron_identificacion[\n",
    "    (repaso_parcial_emicron_identificacion['COD_DEPTO'] == 63) &\n",
    "    (repaso_parcial_emicron_identificacion['P241'] >= 18) &\n",
    "    (repaso_parcial_emicron_identificacion['P241'] <= 28) &\n",
    "    (repaso_parcial_emicron_identificacion['P35'] == 1)  # 1: Hombre\n",
    "    ]['F_EXP'].sum()\n",
    "CDAD_MICRO_Q_M_18_28 = repaso_parcial_emicron_identificacion[\n",
    "    (repaso_parcial_emicron_identificacion['COD_DEPTO'] == 63) &\n",
    "    (repaso_parcial_emicron_identificacion['P241'] >= 18) &\n",
    "    (repaso_parcial_emicron_identificacion['P241'] <= 28) &\n",
    "    (repaso_parcial_emicron_identificacion['P35'] == 2) # 2: Mujer\n",
    "    ]['F_EXP'].sum()\n",
    "print(f'Cantidad de micronegocios en el Quindio encabezados por hombres entre 18 y 28 años: { CDAD_MICRO_Q_H_18_28:.1f}')\n",
    "print(f'Cantidad de micronegocios en el Quindio encabezados por mujeres entre 18 y 28 años: { CDAD_MICRO_Q_M_18_28:.1f}')\n"
   ]
  },
  {
   "cell_type": "code",
   "execution_count": 3,
   "id": "d1101545",
   "metadata": {},
   "outputs": [
    {
     "name": "stdout",
     "output_type": "stream",
     "text": [
      "El departamento con más micronegocios encabezados por hombres entre 20 y 30 años es 5 con 69294.3 micronegocios.\n"
     ]
    }
   ],
   "source": [
    "# 2. CALCULE CIUDAD EN LA QUE EXISTEN MAS MICRONEGOCIOS ENCABEZADOS POR HOMBRES ENTRE LOS 20 Y LOS 30 AÑOS.\n",
    "\n",
    "#Primero, filtramos el DataFrame para obtener solo los micronegocios encabezados por hombres entre 20 y 30 años.\n",
    "micronegocios_hombres_20_30 = repaso_parcial_emicron_identificacion[\n",
    "    (repaso_parcial_emicron_identificacion['P35'] == 1) & # 1: Hombre\n",
    "    (repaso_parcial_emicron_identificacion['P241'] >= 20) &\n",
    "    (repaso_parcial_emicron_identificacion['P241'] <= 30)\n",
    "] \n",
    "# Segundo, agrupamos por departamento y sumamos la columna 'F_EXP' para obtener la cantidad de micronegocios en cada departamento.\n",
    "micronegocios_por_departamento = micronegocios_hombres_20_30.groupby('COD_DEPTO')['F_EXP'].sum()\n",
    "# Finalmente, encontramos el departamento con la mayor cantidad de micronegocios.\n",
    "departamento_mas_micronegocios = micronegocios_por_departamento.idxmax()\n",
    "cantidad_micronegocios = micronegocios_por_departamento.max()\n",
    "print(f'El departamento con más micronegocios encabezados por hombres entre 20 y 30 años es {departamento_mas_micronegocios} con {cantidad_micronegocios:.1f} micronegocios.')\n"
   ]
  },
  {
   "cell_type": "code",
   "execution_count": 4,
   "id": "9173d4e1",
   "metadata": {},
   "outputs": [
    {
     "name": "stdout",
     "output_type": "stream",
     "text": [
      "Cantidad de micronegocios en el Tolima encabezados por mujeres que no tienen ayuda: 28203.2\n"
     ]
    }
   ],
   "source": [
    "# 3. EN EL DEPARTAMENTO DEL TOLIMA CUANTOS MICRONEGOCIOS EXISTEN ENCABEZADOS \n",
    "#  POR MUJERES QUE NO TIENEN UNA PERSONA QUE LES AYUDE EN SU MICRONEGOCIO.\n",
    "\n",
    "# Filtramos el DataFrame para obtener solo los micronegocios en el Tolima (COD_DEPTO = 73)\n",
    "# encabezados por mujeres (P35 = 2) que no tienen ayuda (P3031 = 2) y sumamos la columna 'F_EXP'.\n",
    "\n",
    "micronegocios_tolima_mujeres_sin_ayuda = repaso_parcial_emicron_identificacion[\n",
    "    (repaso_parcial_emicron_identificacion['COD_DEPTO'] == 73) &  # 73: Tolima\n",
    "    (repaso_parcial_emicron_identificacion['P35'] == 2) &  # 2: Mujer\n",
    "    (repaso_parcial_emicron_identificacion['P3031'] == 2)  # 2: No tiene ayuda \n",
    "]['F_EXP'].sum()\n",
    "print(f'Cantidad de micronegocios en el Tolima encabezados por mujeres que no tienen ayuda: {micronegocios_tolima_mujeres_sin_ayuda:.1f}')\n"
   ]
  },
  {
   "cell_type": "code",
   "execution_count": 5,
   "id": "e6011237",
   "metadata": {},
   "outputs": [
    {
     "name": "stdout",
     "output_type": "stream",
     "text": [
      "Cantidad de micronegocios en Bogotá encabezados por mujeres en el sector de la industria manufacturera: 24601.1\n"
     ]
    }
   ],
   "source": [
    "# 4. CUANTOS MICRONEGOCIOS HAY EN LA CIUDAD DE BOGOTA ENCABEZADOS POR MUJERES QUE \n",
    "# ESTEN EN EL SECTOR DE LA INDUSTRIA MANUFACTURERA.\n",
    "\n",
    "# Primero, filtramos el DataFrame para obtener solo los micronegocios en Bogotá (COD_DEPTO = 11)\n",
    "# encabezados por mujeres (P35 = 2) en el sector de la industria manufacturera (GRUPOS12 = 3).\n",
    "MGCIOS_BTA_M_IM = repaso_parcial_emicron_identificacion[\n",
    "    (repaso_parcial_emicron_identificacion['COD_DEPTO'] == 11) &  # 11: Bogotá\n",
    "    (repaso_parcial_emicron_identificacion['P35'] == 2) &  # 2: Mujer\n",
    "    (repaso_parcial_emicron_identificacion['GRUPOS12'] == 3)  # 3: Industria manufacturera\n",
    "]['F_EXP'].sum()\n",
    "print(f'Cantidad de micronegocios en Bogotá encabezados por mujeres en el sector de la industria manufacturera: {MGCIOS_BTA_M_IM:.1f}')\n"
   ]
  },
  {
   "cell_type": "code",
   "execution_count": 6,
   "id": "3bff98ce",
   "metadata": {},
   "outputs": [
    {
     "name": "stdout",
     "output_type": "stream",
     "text": [
      "Cantidad de micronegocios en el Valle del Cauca encabezados por mujeres de 40 años en adelante en el sector del agro: 5463.9\n"
     ]
    }
   ],
   "source": [
    "# 5. CREAR UN CODIGO A GUSTO EN FORMA DE PREGUNTA CON DOS VARIABLES.\n",
    "\n",
    "# Pregunta: MICRONEGOSCIOS ENCABEZADOS POR MUJERES DE 40 EN ADELANTE EN EL DEPARTAMENTO DEL VALLE DEL CAUCA EN EL SECTOR DEL AGRO.\n",
    "\n",
    "# Filtramos el DataFrame para obtener solo los micronegocios en el Valle del Cauca (COD_DEPTO = 76)\n",
    "# encabezados por mujeres (P35 = 2) de 40 años en adelante (P241 >= 40) en el sector del agro (GRUPOS12 = 1).\n",
    "\n",
    "MGCIOS_VC_M_40A_AGRO = repaso_parcial_emicron_identificacion[\n",
    "    (repaso_parcial_emicron_identificacion['COD_DEPTO'] == 76) &  # 76: Valle del Cauca\n",
    "    (repaso_parcial_emicron_identificacion['P35'] == 2) &  # 2: Mujer \n",
    "    (repaso_parcial_emicron_identificacion['P241'] >= 40) &  # 40 años en adelante\n",
    "    (repaso_parcial_emicron_identificacion['GRUPOS12'] == 1)  # 1: Sector del agro\n",
    "]['F_EXP'].sum()\n",
    "print(f'Cantidad de micronegocios en el Valle del Cauca encabezados por mujeres de 40 años en adelante en el sector del agro: {MGCIOS_VC_M_40A_AGRO:.1f}')\n"
   ]
  }
 ],
 "metadata": {
  "kernelspec": {
   "display_name": "Python 3",
   "language": "python",
   "name": "python3"
  },
  "language_info": {
   "codemirror_mode": {
    "name": "ipython",
    "version": 3
   },
   "file_extension": ".py",
   "mimetype": "text/x-python",
   "name": "python",
   "nbconvert_exporter": "python",
   "pygments_lexer": "ipython3",
   "version": "3.12.1"
  }
 },
 "nbformat": 4,
 "nbformat_minor": 5
}
