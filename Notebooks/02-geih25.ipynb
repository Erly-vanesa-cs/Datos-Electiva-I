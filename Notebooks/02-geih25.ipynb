{
 "cells": [
  {
   "cell_type": "code",
   "execution_count": 8,
   "metadata": {},
   "outputs": [],
   "source": [
    "import pandas as pd \n",
    "import numpy as np\n",
    "import matplotlib.pyplot as plt\n"
   ]
  },
  {
   "cell_type": "code",
   "execution_count": 6,
   "id": "8b71ec46",
   "metadata": {},
   "outputs": [],
   "source": [
    "#Caracteristicas generales, seguridad social en salud y educacion\n",
    "\n",
    "# Links a los conjuntos de datos\n",
    "url_cgsse = 'https://raw.githubusercontent.com/niconomist98/DataAnalyticsUQ/main/Datos/GEIH2024/CGSSE.CSV'\n",
    "url_ocupados = 'https://raw.githubusercontent.com/niconomist98/DataAnalyticsUQ/main/Datos/GEIH2024/Ocupados.CSV'\n",
    "url_ft = 'https://raw.githubusercontent.com/niconomist98/DataAnalyticsUQ/main/Datos/GEIH2024/Fuerza%20de%20trabajo.CSV'\n",
    "url_desocupados = 'https://raw.githubusercontent.com/niconomist98/DataAnalyticsUQ/main/Datos/GEIH2024/No%20ocupados.CSV'\n",
    "\n",
    "# CGSSE\n",
    "df_cgsse = pd.read_csv(url_cgsse, encoding='latin-1', sep=';', \n",
    "                       low_memory=False)\n",
    "\n",
    "#Ocupados\n",
    "df_ocupados=pd.read_csv(url_ocupados,encoding='latin-1',sep=';',\n",
    "                       low_memory=False)\n",
    "\n",
    "#Fuerza de trabajo\n",
    "df_ft=pd.read_csv(url_ft,\n",
    "                  encoding='latin-1',sep=';',low_memory=False)\n",
    "#No ocupados\n",
    "df_desocupados=pd.read_csv(url_desocupados,encoding='latin-1',\n",
    "                           sep=';',low_memory=False)"
   ]
  },
  {
   "cell_type": "code",
   "execution_count": 9,
   "id": "3c16347d",
   "metadata": {},
   "outputs": [
    {
     "name": "stdout",
     "output_type": "stream",
     "text": [
      "Index(['PERIODO', 'MES', 'PER', 'DIRECTORIO', 'SECUENCIA_P', 'ORDEN', 'HOGAR',\n",
      "       'REGIS', 'AREA', 'CLASE', 'FEX_C18', 'DPTO', 'PT', 'P6016', 'P3271',\n",
      "       'P6040', 'P6030S1', 'P6030S3', 'P6050', 'P6083', 'P6083S1', 'P6081',\n",
      "       'P6081S1', 'P2057', 'P2059', 'P2061', 'P6080', 'P6080S1', 'P6080S1A1',\n",
      "       'P6070', 'P6071', 'P6071S1', 'P3147S1', 'P3147S2', 'P3147S3', 'P3147S4',\n",
      "       'P3147S5', 'P3147S6', 'P3147S7', 'P3147S8', 'P3147S9', 'P3147S10',\n",
      "       'P3147S11', 'P3147S10A1', 'P6090', 'P6100', 'P6110', 'P6120', 'P1906S1',\n",
      "       'P1906S2', 'P1906S3', 'P1906S4', 'P1906S5', 'P1906S6', 'P1906S7',\n",
      "       'P1906S8', 'P6160', 'P6170', 'P3041', 'P3042', 'P3042S1', 'P3042S2',\n",
      "       'P3043', 'P3043S1', 'P3038', 'P3039', 'POB_MAY18'],\n",
      "      dtype='object')\n",
      "    PERIODO  MES   PER  DIRECTORIO  SECUENCIA_P  ORDEN  HOGAR  REGIS  AREA  \\\n",
      "0  20240730    7  2024     7858603            1      1      1     10   NaN   \n",
      "1  20240730    7  2024     7858603            1      2      1     10   NaN   \n",
      "2  20240730    7  2024     7858603            1      3      1     10   NaN   \n",
      "3  20240730    7  2024     7858604            1      1      1     10   NaN   \n",
      "4  20240730    7  2024     7858604            1      2      1     10   NaN   \n",
      "\n",
      "   CLASE  ...  P6170  P3041  P3042  P3042S1  P3042S2  P3043  P3043S1  P3038  \\\n",
      "0      2  ...    2.0    NaN    4.0      1.0      NaN    NaN      NaN    2.0   \n",
      "1      2  ...    2.0    NaN    5.0      2.0      NaN    2.0      NaN    1.0   \n",
      "2      2  ...    2.0    NaN    5.0      2.0      NaN    2.0      NaN    2.0   \n",
      "3      2  ...    2.0    NaN    5.0      2.0      NaN    2.0      NaN    1.0   \n",
      "4      2  ...    2.0    NaN    5.0      2.0      NaN    2.0      NaN    2.0   \n",
      "\n",
      "   P3039  POB_MAY18  \n",
      "0    1.0        1.0  \n",
      "1    2.0        1.0  \n",
      "2    1.0        1.0  \n",
      "3    2.0        1.0  \n",
      "4    1.0        1.0  \n",
      "\n",
      "[5 rows x 67 columns]\n"
     ]
    }
   ],
   "source": [
    "print(df_cgsse.columns)\n",
    "print(df_cgsse.head())\n"
   ]
  },
  {
   "cell_type": "code",
   "execution_count": 21,
   "id": "8fabe3c4",
   "metadata": {},
   "outputs": [
    {
     "name": "stdout",
     "output_type": "stream",
     "text": [
      "Poblacion en edad de trabajar: 40142096\n"
     ]
    }
   ],
   "source": [
    "#POBLACION EN EDAD DE TRABAJAR \n",
    "PET = df_cgsse[df_cgsse['P6040']>=15]['FEX_C18'].sum()\n",
    "print(f'Poblacion en edad de trabajar: {int(PET)}')"
   ]
  }
 ],
 "metadata": {
  "kernelspec": {
   "display_name": "Python 3",
   "language": "python",
   "name": "python3"
  },
  "language_info": {
   "codemirror_mode": {
    "name": "ipython",
    "version": 3
   },
   "file_extension": ".py",
   "mimetype": "text/x-python",
   "name": "python",
   "nbconvert_exporter": "python",
   "pygments_lexer": "ipython3",
   "version": "3.12.1"
  }
 },
 "nbformat": 4,
 "nbformat_minor": 5
}
