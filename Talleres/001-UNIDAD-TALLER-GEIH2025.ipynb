{
 "cells": [
  {
   "cell_type": "code",
   "execution_count": 2,
   "id": "6ff2aa02",
   "metadata": {},
   "outputs": [],
   "source": [
    "import pandas as pd\n",
    "import numpy as np\n",
    "import matplotlib.pyplot as plt\n",
    "from pathlib import Path"
   ]
  },
  {
   "cell_type": "code",
   "execution_count": 3,
   "id": "90e9e4a6",
   "metadata": {},
   "outputs": [
    {
     "name": "stderr",
     "output_type": "stream",
     "text": [
      "/tmp/ipykernel_21382/3175422324.py:6: DtypeWarning: Columns (28,89,133,147,158) have mixed types. Specify dtype option on import or set low_memory=False.\n",
      "  df_o = pd.read_csv('https://github.com/niconomist98/DataAnalyticsUQ/raw/refs/heads/main/Datos/GEIH2025/Ocupados.CSV'\n",
      "/tmp/ipykernel_21382/3175422324.py:13: DtypeWarning: Columns (33) have mixed types. Specify dtype option on import or set low_memory=False.\n",
      "  df_ft = pd.read_csv('https://github.com/niconomist98/DataAnalyticsUQ/raw/refs/heads/main/Datos/GEIH2025/Fuerza%20de%20trabajo.CSV'\n"
     ]
    }
   ],
   "source": [
    "#Leyendo los datos de la geih\n",
    "df_cgsse = pd.read_csv('https://github.com/niconomist98/DataAnalyticsUQ/raw/refs/heads/main/Datos/GEIH2025/cgsse.CSV'\n",
    "                       ,encoding='latin',sep=';'\n",
    "                       )\n",
    "\n",
    "df_o = pd.read_csv('https://github.com/niconomist98/DataAnalyticsUQ/raw/refs/heads/main/Datos/GEIH2025/Ocupados.CSV'\n",
    "                       ,encoding='latin',sep=';'\n",
    "                       )\n",
    "\n",
    "df_d = pd.read_csv('https://github.com/niconomist98/DataAnalyticsUQ/raw/refs/heads/main/Datos/GEIH2025/No%20ocupados.CSV'\n",
    "                       ,encoding='latin',sep=';'\n",
    "                       )\n",
    "df_ft = pd.read_csv('https://github.com/niconomist98/DataAnalyticsUQ/raw/refs/heads/main/Datos/GEIH2025/Fuerza%20de%20trabajo.CSV'\n",
    "                       ,encoding='latin',sep=';'\n",
    "                       )"
   ]
  },
  {
   "cell_type": "code",
   "execution_count": null,
   "id": "660c4bd5",
   "metadata": {},
   "outputs": [],
   "source": [
    "#Taller mercado laboral GEIH 2025"
   ]
  },
  {
   "cell_type": "code",
   "execution_count": null,
   "id": "767c3580",
   "metadata": {},
   "outputs": [
    {
     "name": "stdout",
     "output_type": "stream",
     "text": [
      "Poblacion total representada: 52045001\n",
      "Poblacion en edad de trabajar: 40653416\n"
     ]
    }
   ],
   "source": [
    "# 1. Para el total nacional, calcule.\n",
    "\n",
    "#POBLACION TOTAL.\n",
    "df_cgsse['FEX_C18'].sum()\n",
    "print(f'Poblacion total representada: {int(df_cgsse[\"FEX_C18\"].sum())}')\n",
    "\n",
    "#POBLACION EN EDAD DE TRABAJAR.\n",
    "PET = df_cgsse[df_cgsse['P6040']>=15]['FEX_C18'].sum()\n",
    "print(f'Poblacion en edad de trabajar: {int(PET)}')\n",
    "\n",
    "#POBLACION QUE NO ESTA EN EDAD DE TRABAJAR.\n",
    "PNET = df_cgsse[df_cgsse['P6040']<15]['FEX_C18'].sum()\n",
    "print(f'Poblacion que no está en  edad de trabajar: {int(PNET)}')\n",
    "\n",
    "#POBLACION ECONOMICAMENTE ACTIVA.\n"
   ]
  }
 ],
 "metadata": {
  "kernelspec": {
   "display_name": "Python 3",
   "language": "python",
   "name": "python3"
  },
  "language_info": {
   "codemirror_mode": {
    "name": "ipython",
    "version": 3
   },
   "file_extension": ".py",
   "mimetype": "text/x-python",
   "name": "python",
   "nbconvert_exporter": "python",
   "pygments_lexer": "ipython3",
   "version": "3.12.1"
  }
 },
 "nbformat": 4,
 "nbformat_minor": 5
}
